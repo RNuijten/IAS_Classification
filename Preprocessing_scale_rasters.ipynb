{
 "cells": [
  {
   "cell_type": "code",
   "execution_count": 15,
   "metadata": {},
   "outputs": [],
   "source": [
    "import rasterio\n",
    "import numpy as np\n",
    "import geopandas as gpd\n",
    "\n",
    "from sklearn.preprocessing import MinMaxScaler, RobustScaler"
   ]
  },
  {
   "cell_type": "code",
   "execution_count": 25,
   "metadata": {},
   "outputs": [],
   "source": [
    "# Specify paths\n",
    "rasPath = \"D:\\\\TEMP\\\\_output\\_tif\\\\_Manning_Invasives\\\\Manning_Invasives_Structural_NEW.tif\"\n",
    "rasPathOut = \"D:\\\\TEMP\\\\_output\\_tif\\\\_Manning_Invasives\\\\Manning_Invasives_Structural_NEW_Scaled2.tif\""
   ]
  },
  {
   "cell_type": "code",
   "execution_count": 26,
   "metadata": {},
   "outputs": [],
   "source": [
    "### MULTI\n",
    "\n",
    "# Read raster. In this case it is a 10-band raster and we are only reading 5 bands\n",
    "with rasterio.open(rasPath, 'r') as src:\n",
    "    b, g, r, re, nir = src.read(2), src.read(4), src.read(6), src.read(8), src.read(10)\n",
    "    array = np.stack([b,g,r,re,nir])\n",
    "    array = array.astype(np.float32) # Read array\n",
    "    array[array == src.nodata] = np.nan # Assign np.nan value to all cells that contain a nodata value\n",
    "    \n",
    "    affine = src.transform # Affine transform\n",
    "    profile = src.profile # Metadata\n",
    "    nodata = src.nodata # Nodata"
   ]
  },
  {
   "cell_type": "code",
   "execution_count": 17,
   "metadata": {},
   "outputs": [],
   "source": [
    "### RGB\n",
    "\n",
    "# Read raster. \n",
    "with rasterio.open(rasPath, 'r') as src:\n",
    "    r, g, b = src.read(1), src.read(2), src.read(3)\n",
    "    array = np.stack([r,g,b])\n",
    "    array = array.astype(np.float32) # Read array\n",
    "    array[array == src.nodata] = np.nan # Assign np.nan value to all cells that contain a nodata value\n",
    "    \n",
    "    affine = src.transform # Affine transform\n",
    "    profile = src.profile # Metadata\n",
    "    nodata = src.nodata # Nodata"
   ]
  },
  {
   "cell_type": "code",
   "execution_count": 30,
   "metadata": {},
   "outputs": [
    {
     "name": "stdout",
     "output_type": "stream",
     "text": [
      "-32767.0\n"
     ]
    }
   ],
   "source": [
    "print(nodata)"
   ]
  },
  {
   "cell_type": "code",
   "execution_count": 19,
   "metadata": {},
   "outputs": [],
   "source": [
    "# Function: Scaling using a Robust scaler\n",
    "\n",
    "def scaling_Robust_raster(array):\n",
    "    scaledArrays = []\n",
    "    for i in range(len(array)):\n",
    "        # Scale and Stack\n",
    "        arrayReshape = array[i].reshape(-1, 1) # Reshape array to 1D-array\n",
    "        arrayReshape2 = arrayReshape[np.logical_not(np.isnan(arrayReshape))].reshape(-1, 1) # Exclude np.nan during scaling and reshape to 1D-array\n",
    "        \n",
    "        scaler = RobustScaler(with_centering=True, with_scaling=True, \n",
    "                                           quantile_range=(25.0, 75.0), copy=True).fit(arrayReshape2) # Prepare RobustScaler\n",
    "        \n",
    "        # Apply RobustScaler.\n",
    "        arrayRescaled = scaler.transform(arrayReshape).reshape(array.shape[1], array.shape[2]) # Rescale to shape of original dataset\n",
    "        scaledArrays.append(arrayRescaled)\n",
    "    arrayStacked = np.stack(scaledArrays)\n",
    "    return(arrayStacked)"
   ]
  },
  {
   "cell_type": "code",
   "execution_count": 20,
   "metadata": {},
   "outputs": [],
   "source": [
    "# Function: Scaling using a min-max scaler\n",
    "\n",
    "def scaling_MinMax_raster(array):\n",
    "    scaledArrays = []\n",
    "    for i in range(len(array)):\n",
    "        # Scale and Stack\n",
    "        arrayReshape = array[i].reshape(-1, 1) # Reshape array to 1D-array\n",
    "        arrayReshape2 = arrayReshape[np.logical_not(np.isnan(arrayReshape))].reshape(-1, 1) # Exclude np.nan during scaling and reshape to 1D-array\n",
    "        \n",
    "        scaler = MinMaxScaler(feature_range=(0, 1)).fit(arrayReshape2) # Prepare StandardScaler\n",
    "        \n",
    "        # Apply MinMaxScaler.\n",
    "        arrayRescaled = scaler.transform(arrayReshape).reshape(array.shape[1], array.shape[2]) # Rescale to shape of original dataset\n",
    "        scaledArrays.append(arrayRescaled)\n",
    "    arrayStacked = np.stack(scaledArrays)\n",
    "    return(arrayStacked)"
   ]
  },
  {
   "cell_type": "code",
   "execution_count": 27,
   "metadata": {},
   "outputs": [],
   "source": [
    "# Run Scaling fucntion\n",
    "arrayScaledRobust = scaling_Robust_raster(array)\n",
    "arrayScaledMinMax = scaling_MinMax_raster(arrayScaledRobust)"
   ]
  },
  {
   "cell_type": "code",
   "execution_count": 28,
   "metadata": {},
   "outputs": [
    {
     "name": "stdout",
     "output_type": "stream",
     "text": [
      "[[nan nan nan ... nan nan nan]\n",
      " [nan nan nan ... nan nan nan]\n",
      " [nan nan nan ... nan nan nan]\n",
      " ...\n",
      " [nan nan nan ... nan nan nan]\n",
      " [nan nan nan ... nan nan nan]\n",
      " [nan nan nan ... nan nan nan]]\n",
      "{'driver': 'GTiff', 'dtype': 'float32', 'nodata': -32767.0, 'width': 6301, 'height': 5450, 'count': 10, 'crs': CRS.from_epsg(26911), 'transform': Affine(0.049986166211712445, 0.0, 439206.0313357129,\n",
      "       0.0, -0.04998678552294406, 6323096.616902698), 'blockxsize': 256, 'blockysize': 256, 'tiled': True, 'compress': 'lzw', 'interleave': 'pixel'}\n"
     ]
    }
   ],
   "source": [
    "print(arrayScaledMinMax[0])\n",
    "print(profile)"
   ]
  },
  {
   "cell_type": "code",
   "execution_count": 29,
   "metadata": {},
   "outputs": [],
   "source": [
    "# Write scaled raster to file\n",
    "\n",
    "profile['count'] = len(arrayScaledMinMax) # Manipulate dict\n",
    "profile['nodata'] = np.nan\n",
    "profile['dtype'] = np.float32\n",
    "\n",
    "with rasterio.open(rasPathOut, 'w', **profile) as src:\n",
    "    src.write(arrayScaledMinMax)"
   ]
  }
 ],
 "metadata": {
  "kernelspec": {
   "display_name": "Python 3",
   "language": "python",
   "name": "python3"
  },
  "language_info": {
   "codemirror_mode": {
    "name": "ipython",
    "version": 3
   },
   "file_extension": ".py",
   "mimetype": "text/x-python",
   "name": "python",
   "nbconvert_exporter": "python",
   "pygments_lexer": "ipython3",
   "version": "3.7.3"
  }
 },
 "nbformat": 4,
 "nbformat_minor": 4
}
