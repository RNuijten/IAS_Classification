{
 "cells": [
  {
   "cell_type": "code",
   "execution_count": 1,
   "metadata": {},
   "outputs": [],
   "source": [
    "import rasterio\n",
    "import numpy as np\n",
    "import geopandas as gpd\n",
    "import rioxarray # for the extension to load\n",
    "import xarray as xr\n",
    "import multiprocessing\n",
    "import time\n",
    "import gc\n",
    "\n",
    "from rasterio.enums import Resampling\n",
    "\n",
    "from sklearn_xarray import wrap\n",
    "from sklearn.preprocessing import MinMaxScaler\n",
    "\n",
    "\n",
    "# For larger rasters the two rasters need to be tiled (and should overlap!) \n",
    "# and the code below should be performed in sequence for each tile\n",
    "# with 'just' 64 GB memory availabe it likely that it can be paralized in two sessions at maxmimum"
   ]
  },
  {
   "cell_type": "code",
   "execution_count": 4,
   "metadata": {},
   "outputs": [],
   "source": [
    "\n",
    "# - Read rasters into memory -\n",
    "\n",
    "# Use function 'reproject_match'\n",
    "# Documentation: https://corteva.github.io/rioxarray/stable/examples/reproject_match.html\n",
    "# Documentation: https://corteva.github.io/rioxarray/stable/rioxarray.html?highlight=write_crs#rioxarray.raster_array.RasterArray.reproject_match\n",
    "\n",
    "# Load in xarray datasets\n",
    "xds = rioxarray.open_rasterio(rasPathIn, mask_and_scale=True, cache=False, engine='rasterio') # target\n",
    "xds_match = rioxarray.open_rasterio(rasPathTarget, mask_and_scale=True, cache=False, engine='rasterio') # Input\n",
    "\n",
    "\n",
    "# Select only relevant bands from 10-band raster (RedEdge-MX Dual camera)\n",
    "xds = xds[[1,3,5,7,9]]"
   ]
  },
  {
   "cell_type": "code",
   "execution_count": 6,
   "metadata": {},
   "outputs": [
    {
     "name": "stdout",
     "output_type": "stream",
     "text": [
      "Band 0  done.\n",
      "218.85712885856628\n",
      "Band 1  done.\n",
      "27.853586196899414\n",
      "Band 2  done.\n",
      "30.623091220855713\n",
      "Band 3  done.\n",
      "30.883497953414917\n",
      "Band 4  done.\n",
      "33.36853575706482\n"
     ]
    }
   ],
   "source": [
    "\n",
    "# - Resample and match 5 multispectral bands to 1 cm RGB ortho\n",
    "\n",
    "matched_bands = []\n",
    "for b in range(len(xds)):\n",
    "    t = time.time()\n",
    "    xds_repr_match = xds[-1].rio.reproject_match(xds_match[0], resampling=Resampling.nearest)\n",
    "    \n",
    "    # From: https://corteva.github.io/rioxarray/stable/examples/reproject_match.html?highlight=stack\n",
    "    # It is recommended to use assign_coords to make the coordinates the exact same due to \n",
    "    # tiny differences in the coordinate values due to floating precision \n",
    "    xds_repr_match = xds_repr_match.assign_coords({\n",
    "        \"x\": xds_match.x,\n",
    "        \"y\": xds_match.y,\n",
    "    })\n",
    "    \n",
    "    matched_bands.append(xds_repr_match) # sampling on last band\n",
    "    \n",
    "    del(xds_repr_match) # Remove resampled band from memory\n",
    "    xds[-1] = None # remove last band from memory\n",
    "    gc.collect() # make memory available\n",
    "    \n",
    "    print('Band '+str(b),' done.')\n",
    "    # Resample and match 5 multispectral bands to 1 cm RGB ortho\n",
    "    print(time.time() - t)"
   ]
  },
  {
   "cell_type": "code",
   "execution_count": 7,
   "metadata": {},
   "outputs": [],
   "source": [
    "# - Stack and save rasters\n",
    "\n",
    "# Bands to be stacked\n",
    "stacked_bands = np.stack([xds_match[0], xds_match[1], xds_match[2], \n",
    "             matched_bands[0], matched_bands[1], matched_bands[2],\n",
    "             matched_bands[3], matched_bands[4]])\n",
    "\n"
   ]
  },
  {
   "cell_type": "code",
   "execution_count": 21,
   "metadata": {},
   "outputs": [],
   "source": [
    "# Read metadata target raster\n",
    "with rasterio.open(rasPathTarget) as src:\n",
    "    profile = src.profile\n",
    "\n",
    "# Edit metadata\n",
    "profile['count'] = len(stacked_bands)\n",
    "profile['nodata'] = np.nan\n",
    "profile['dtype'] = np.float32    "
   ]
  },
  {
   "cell_type": "code",
   "execution_count": 30,
   "metadata": {},
   "outputs": [],
   "source": [
    "rasPathOut =\n",
    "\n",
    "# write stacked raster\n",
    "with rasterio.open(rasPathOut, 'w', **profile) as src:\n",
    "    src.write(stacked_bands)"
   ]
  },
  {
   "cell_type": "code",
   "execution_count": 1,
   "metadata": {},
   "outputs": [],
   "source": [
    "# Finally NA values were 'filled' in ArcGIS Pro using raster calculator"
   ]
  }
 ],
 "metadata": {
  "kernelspec": {
   "display_name": "Python 3",
   "language": "python",
   "name": "python3"
  },
  "language_info": {
   "codemirror_mode": {
    "name": "ipython",
    "version": 3
   },
   "file_extension": ".py",
   "mimetype": "text/x-python",
   "name": "python",
   "nbconvert_exporter": "python",
   "pygments_lexer": "ipython3",
   "version": "3.7.3"
  }
 },
 "nbformat": 4,
 "nbformat_minor": 4
}
