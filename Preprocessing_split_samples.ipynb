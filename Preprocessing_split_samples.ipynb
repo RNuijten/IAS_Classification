{
 "cells": [
  {
   "cell_type": "markdown",
   "id": "7ea2e9b6-4e63-44a7-9a82-b0e4881a0c2d",
   "metadata": {},
   "source": [
    "# Split target and absent-class samples"
   ]
  },
  {
   "cell_type": "code",
   "execution_count": 1,
   "id": "0d89d861-1677-4f6d-8764-ab980e228522",
   "metadata": {},
   "outputs": [],
   "source": [
    "import pandas as pd\n",
    "import geopandas as gpd\n",
    "import fiona\n",
    "from osgeo import ogr, gdal, osr\n",
    "import os, sys\n",
    "from osgeo import ogr\n",
    "from math import ceil\n",
    "import rasterio\n",
    "\n",
    "from sklearn.model_selection import train_test_split"
   ]
  },
  {
   "cell_type": "markdown",
   "id": "ca8f8f82-85a3-42bb-b6ba-2eed08b026f0",
   "metadata": {},
   "source": [
    "### Create fishnet"
   ]
  },
  {
   "cell_type": "code",
   "execution_count": 2,
   "id": "9894d886-4652-4378-a419-ed8f747fad85",
   "metadata": {},
   "outputs": [],
   "source": [
    "def fisnettool(outputGridfn,xmin,xmax,ymin,ymax,gridHeight,gridWidth):\n",
    "    #Source / documentation: https://varunpant.com/posts/how-to-create-fishnets-or-geospatial-grids/\n",
    "\n",
    "    # convert sys.argv to float\n",
    "    xmin = float(xmin)\n",
    "    xmax = float(xmax)\n",
    "    ymin = float(ymin)\n",
    "    ymax = float(ymax)\n",
    "    gridWidth = float(gridWidth)\n",
    "    gridHeight = float(gridHeight)\n",
    "\n",
    "    # get rows\n",
    "    rows = ceil((ymax-ymin)/gridHeight)\n",
    "    # get columns\n",
    "    cols = ceil((xmax-xmin)/gridWidth)\n",
    "\n",
    "    # start grid cell envelope\n",
    "    ringXleftOrigin = xmin\n",
    "    ringXrightOrigin = xmin + gridWidth\n",
    "    ringYtopOrigin = ymax\n",
    "    ringYbottomOrigin = ymax-gridHeight\n",
    "\n",
    "    # create output file\n",
    "    outDriver = ogr.GetDriverByName('ESRI Shapefile')\n",
    "    if os.path.exists(outputGridfn):\n",
    "        os.remove(outputGridfn)\n",
    "    outDataSource = outDriver.CreateDataSource(outputGridfn)\n",
    "    outLayer = outDataSource.CreateLayer(outputGridfn, geom_type=ogr.wkbPolygon )\n",
    "    featureDefn = outLayer.GetLayerDefn()\n",
    "\n",
    "    # create grid cells\n",
    "    countcols = 0\n",
    "    while countcols < cols:\n",
    "        countcols += 1\n",
    "\n",
    "        # reset envelope for rows\n",
    "        ringYtop = ringYtopOrigin\n",
    "        ringYbottom =ringYbottomOrigin\n",
    "        countrows = 0\n",
    "\n",
    "        while countrows < rows:\n",
    "            countrows += 1\n",
    "            ring = ogr.Geometry(ogr.wkbLinearRing)\n",
    "            ring.AddPoint(ringXleftOrigin, ringYtop)\n",
    "            ring.AddPoint(ringXrightOrigin, ringYtop)\n",
    "            ring.AddPoint(ringXrightOrigin, ringYbottom)\n",
    "            ring.AddPoint(ringXleftOrigin, ringYbottom)\n",
    "            ring.AddPoint(ringXleftOrigin, ringYtop)\n",
    "            poly = ogr.Geometry(ogr.wkbPolygon)\n",
    "            poly.AddGeometry(ring)\n",
    "\n",
    "            # add new geom to layer\n",
    "            outFeature = ogr.Feature(featureDefn)\n",
    "            outFeature.SetGeometry(poly)\n",
    "            outLayer.CreateFeature(outFeature)\n",
    "            outFeature.Destroy\n",
    "\n",
    "            # new envelope for next poly\n",
    "            ringYtop = ringYtop - gridHeight\n",
    "            ringYbottom = ringYbottom - gridHeight\n",
    "\n",
    "        # new envelope for next poly\n",
    "        ringXleftOrigin = ringXleftOrigin + gridWidth\n",
    "        ringXrightOrigin = ringXrightOrigin + gridWidth\n",
    "\n",
    "    # Close DataSources\n",
    "    outDataSource.Destroy()\n"
   ]
  },
  {
   "cell_type": "code",
   "execution_count": 3,
   "id": "7a9c1e1e-e8c7-4013-9098-011beb0f6d3c",
   "metadata": {},
   "outputs": [],
   "source": [
    "# Main function running Fishnettool and selecting centroids within quadrat polyons\n",
    "# Arguments:\n",
    "    # Input polygon filename - Outline of quadrats\n",
    "    # Temporaray polygon output filename - For storing the fishnet\n",
    "    # Output polygon filename - Selected fishnet' centroids within quadrats\n",
    "    # CRS\n",
    "    # Size of grid in meters\n",
    "\n",
    "def run_fisnettool(inPoly, outTmpFn, inCrs='EPSG:26910', gridDistance=0.02):\n",
    "    \n",
    "    # using extent of shapefile\n",
    "    minx, miny, maxx, maxy = inPoly.total_bounds # Returns minx, miny, maxx, maxy \n",
    "    \n",
    "    # Use Fishnet Too.\n",
    "    fisnettool(outTmpFn, minx, maxx, miny, maxy, gridDistance, gridDistance)\n",
    "    \n",
    "    \n",
    "  "
   ]
  },
  {
   "cell_type": "code",
   "execution_count": 4,
   "id": "e7098666-274c-4852-852c-4b9067808746",
   "metadata": {},
   "outputs": [],
   "source": [
    "gdfPoly = gpd.read_file('E:\\\\Sync\\\\_Documents\\\\_Letter_invasives\\\\_Data\\\\Transect_grids.shp')"
   ]
  },
  {
   "cell_type": "code",
   "execution_count": 5,
   "id": "6e0258cc-77ef-474d-8ecb-be2b5a816a47",
   "metadata": {},
   "outputs": [],
   "source": [
    "# Run tools by transect\n",
    "run_fisnettool(inPoly=gdfPoly.loc[gdfPoly['Quadrat'].isin(['3_1','3_2','3_3'])],\n",
    "               outTmpFn='E:\\\\Sync\\\\_Documents\\\\_Letter_invasives\\\\_Data\\\\_fishnetgrid_tr3.shp',\n",
    "               inCrs='EPSG:26910',\n",
    "               gridDistance=0.02)"
   ]
  },
  {
   "cell_type": "code",
   "execution_count": 6,
   "id": "c3e9cb48-a5c5-4192-8bc8-e6b3d47f43e8",
   "metadata": {},
   "outputs": [],
   "source": [
    "run_fisnettool(inPoly=gdfPoly.loc[gdfPoly['Quadrat'].isin(['1_1','1_2','1_3'])],\n",
    "               outTmpFn='E:\\\\Sync\\\\_Documents\\\\_Letter_invasives\\\\_Data\\\\_fishnetgrid_tr1.shp',\n",
    "               inCrs='EPSG:26910',\n",
    "               gridDistance=0.02)"
   ]
  },
  {
   "cell_type": "code",
   "execution_count": 7,
   "id": "bb7e7f13-726c-474e-8cee-4bc7d44ceef7",
   "metadata": {},
   "outputs": [],
   "source": [
    "run_fisnettool(inPoly=gdfPoly.loc[gdfPoly['Quadrat'].isin(['2_1','2_2','2_3','2_4','2_5','2_6','2_7','2_8','2_9','2_10'])],\n",
    "               outTmpFn='E:\\\\Sync\\\\_Documents\\\\_Letter_invasives\\\\_Data\\\\_fishnetgrid_tr2.shp',\n",
    "               inCrs='EPSG:26910',\n",
    "               gridDistance=0.02)"
   ]
  },
  {
   "cell_type": "markdown",
   "id": "ae183ed8-6841-47aa-82da-9806bc6e860b",
   "metadata": {},
   "source": [
    "### Train-Val split of absent-class samples using Fishnets"
   ]
  },
  {
   "cell_type": "code",
   "execution_count": 7,
   "id": "61fd6b5e-1100-4708-856a-d424fa1fac27",
   "metadata": {},
   "outputs": [],
   "source": [
    "def sample_with_fishnet(pixelPointsFn, fishnetsList, inCrs, outFn, species):\n",
    "    # pixelPointsFn: are absent-class pixels selected in ArcGIS Pro converted to points\n",
    "    gdfPoly = gpd.read_file(pixelPointsFn, crs=inCrs)\n",
    "    \n",
    "    fishnets = []\n",
    "    for i in range(len(fishnetsList)):\n",
    "        gdfFishnet = gpd.read_file(fishnetsList[i], crs=inCrs)\n",
    "        gdfFishnet['ID'] = str(i)+'_'+gdfFishnet['FID'].astype(str)\n",
    "        fishnets.append(gdfFishnet)\n",
    "    gdfFishnet = pd.concat(fishnets, axis=0)\n",
    "    \n",
    "    gdfPoly = gdfPoly.sjoin(gdfFishnet.loc[:,['ID', 'geometry']], how='left')\n",
    "    gdfPoly.drop(columns='index_right', inplace=True)\n",
    "                                                \n",
    "    for j in [4,7,9,19,54,83,101,103,115,120]: # list of random seeds                                       \n",
    "        sampleDf = gdfPoly.groupby('ID').sample(n=1, random_state=j) # sampling\n",
    "        \n",
    "        # Label the randomly selected points in majority DF, per species\n",
    "        sampleDf['split'] = 'test' # add column for train/test\n",
    "        sampleDf = gdfPoly.sjoin(sampleDf.loc[:,['split','geometry']], how='left') # spatial join\n",
    "\n",
    "        sampleDf['split'].fillna('train', inplace=True) # fill na with 'train'\n",
    "        \n",
    "        if species == 'T':\n",
    "            sampleDf['class'] = 'majorityT' # add new class column\n",
    "        else:\n",
    "            sampleDf['class'] = 'majorityH' # add new class column\n",
    "\n",
    "        sampleDf.to_file(outFn.format(species, str(j)), crs=inCrs)\n",
    "    "
   ]
  },
  {
   "cell_type": "code",
   "execution_count": null,
   "id": "11d64a69-192b-4429-8ed8-d5cd13d50e89",
   "metadata": {},
   "outputs": [],
   "source": [
    "# creates 10 independed randomly split point datasets by species\n",
    "test = sample_with_fishnet(\"E:\\\\Sync\\\\_Documents\\\\_Letter_invasives\\\\_Data\\\\_quadrats\\\\QuadratsRas2PolyT.shp\",\n",
    "                          ['E:\\\\Sync\\\\_Documents\\\\_Letter_invasives\\\\_Data\\\\_quadrats\\\\_fishnetgrid_tr1.shp', 'E:\\\\Sync\\\\_Documents\\\\_Letter_invasives\\\\_Data\\\\_quadrats\\\\_fishnetgrid_tr2.shp', 'E:\\\\Sync\\\\_Documents\\\\_Letter_invasives\\\\_Data\\\\_quadrats\\\\_fishnetgrid_tr3.shp'],\n",
    "                          inCrs='EPSG:26910',\n",
    "                          outFn=\"E:\\\\Sync\\\\_Documents\\\\_Letter_invasives\\\\_Data\\\\_samples\\\\_majority_sp{}_seed{}.shp\",\n",
    "                          species='T')"
   ]
  },
  {
   "cell_type": "markdown",
   "id": "a8249724-a35b-4ab7-a618-0dcbdd181bd8",
   "metadata": {},
   "source": [
    "### Derive spectral values for present-class samples"
   ]
  },
  {
   "cell_type": "code",
   "execution_count": 57,
   "id": "d19e142e-46e6-45a9-9cce-d585b0f05072",
   "metadata": {},
   "outputs": [],
   "source": [
    "# Specify paths\n",
    "\n",
    "gdfMinority = gpd.read_file(\"E:\\\\Sync\\\\_Documents\\\\_Letter_invasives\\\\_Data\\\\Training_samples_both_species2.shp\").set_crs('EPSG:26911')\n",
    "rasPath = \"D:\\\\TEMP\\\\_output\\\\_tif\\\\_Manning_Invasives\\\\Struc_Spec_1cm_near_fill.tif\""
   ]
  },
  {
   "cell_type": "code",
   "execution_count": 58,
   "id": "6842ae78-c235-4761-b64c-b36ddc97f233",
   "metadata": {},
   "outputs": [],
   "source": [
    "# Fucntion for extractiong raster information for points\n",
    "\n",
    "def deriveMinSamples(minPolys, rasPath):\n",
    "\n",
    "    with rasterio.open(rasPath, 'r') as src: # Open rasterio object\n",
    "        array = src.read() # Numpy ndarray\n",
    "\n",
    "        xIn = minPolys['geometry'].x # extract x coords\n",
    "        yIn = minPolys['geometry'].y # extract y coords\n",
    "        coords = [(x, y) for x, y in zip(xIn, yIn)] # put x,y coords paired in tuples\n",
    "        valDf = pd.DataFrame(list(src.sample(coords)), columns=['1_red','1_green','1_blue','2_blue','2_green','3_red','4_re','2_nir'])\n",
    "        \n",
    "        samplesDf = pd.concat([minPolys.reset_index(inplace=False), valDf.reset_index(inplace=False)], axis=1)\n",
    "    \n",
    "    return(samplesDf)"
   ]
  },
  {
   "cell_type": "code",
   "execution_count": 61,
   "id": "a541bb69-40ba-4f52-89a2-5083e8b17e59",
   "metadata": {},
   "outputs": [],
   "source": [
    "# Merge geodataframes \n",
    "minorityDf = deriveMinSamples(gdfMinority, rasPath)  "
   ]
  },
  {
   "cell_type": "markdown",
   "id": "43696c8a-725b-44da-b478-4f00e65ad790",
   "metadata": {},
   "source": [
    "### Train-Val split of present-class samples using Quadrats"
   ]
  },
  {
   "cell_type": "code",
   "execution_count": 228,
   "id": "5de3987c-9472-4768-9af4-9f042aecc3cf",
   "metadata": {},
   "outputs": [],
   "source": [
    "# select by quadrat\n",
    "\n",
    "def split_t_v(df, species, random_state, test_size=0.25):\n",
    "    df = df.loc[df['Class']==species]\n",
    "\n",
    "    out = []\n",
    "\n",
    "    for i in df['Quadrat'].unique():\n",
    "        rows = df.loc[df['Quadrat']==i]\n",
    "\n",
    "        groupbydf = rows.groupby('Class').count()\n",
    "        groupbydf = groupbydf.loc[groupbydf['Quadrat'] >= 2]\n",
    "        classNames = list(groupbydf.index)\n",
    "\n",
    "        rows2 = rows.loc[rows['Class'].isin(classNames)]\n",
    "              \n",
    "        # Split DataFrame using sklearn\n",
    "        X_tr, X_t, y_tr, y_t = train_test_split((rows2), (rows2.loc[:,'Class']), \n",
    "                                                test_size=test_size, \n",
    "                                                random_state=random_state)\n",
    "\n",
    "        # Add columns\n",
    "        X_tr['split'] = 'train'\n",
    "        X_tr['class'] = species\n",
    "        X_tr = X_tr.reset_index(drop=True).drop('index', axis=1)\n",
    "        \n",
    "        X_t['split'] = 'test'\n",
    "        X_t['class'] = species\n",
    "        X_t = X_t.reset_index(drop=True).drop('index', axis=1)\n",
    "        \n",
    "        out.append(pd.concat([X_tr, X_t], axis=0))\n",
    "        \n",
    "    out = pd.concat(out, axis=0)\n",
    "\n",
    "    return(out)"
   ]
  },
  {
   "cell_type": "code",
   "execution_count": 233,
   "id": "0fee57fa-cad0-4664-b088-251e345a1590",
   "metadata": {},
   "outputs": [],
   "source": [
    "# Run split train-test\n",
    "\n",
    "def run_split_t_v(df, species, outFn):\n",
    "    for i in [4,7,9,19,54,83,101,103,115,120]:\n",
    "        samplesDf = split_t_v(minorityDf, species=species, random_state=i)\n",
    "        samplesDf.drop(columns=['Join_Count','TARGET_FID','Id'], inplace=True)\n",
    "        samplesDf.to_file(outFn.format(species, str(i)))"
   ]
  },
  {
   "cell_type": "code",
   "execution_count": 234,
   "id": "e97c7ad3-3496-4770-84a3-f432bc25f867",
   "metadata": {},
   "outputs": [],
   "source": [
    "# creates 10 independed randomly split point datasets by species\n",
    "run_split_t_v(minorityDf, 'T', \"E:\\\\Sync\\\\_Documents\\\\_Letter_invasives\\\\_Data\\\\_samples\\\\_minority_sp{}_seed{}.shp\")\n",
    "\n",
    "run_split_t_v(minorityDf, 'H', \"E:\\\\Sync\\\\_Documents\\\\_Letter_invasives\\\\_Data\\\\_samples\\\\_minority_sp{}_seed{}.shp\")"
   ]
  }
 ],
 "metadata": {
  "kernelspec": {
   "display_name": "geo",
   "language": "python",
   "name": "geo"
  },
  "language_info": {
   "codemirror_mode": {
    "name": "ipython",
    "version": 3
   },
   "file_extension": ".py",
   "mimetype": "text/x-python",
   "name": "python",
   "nbconvert_exporter": "python",
   "pygments_lexer": "ipython3",
   "version": "3.9.9"
  }
 },
 "nbformat": 4,
 "nbformat_minor": 5
}
