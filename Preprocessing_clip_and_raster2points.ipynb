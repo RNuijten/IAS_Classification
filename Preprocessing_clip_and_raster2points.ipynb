{
 "cells": [
  {
   "cell_type": "code",
   "execution_count": 1,
   "metadata": {},
   "outputs": [],
   "source": [
    "import geopandas as gpd\n",
    "import rasterio\n",
    "import rasterio.mask\n",
    "import geopandas as gpd\n",
    "import numpy as np\n",
    "import pandas as pd\n",
    "import glob as glob\n",
    "import rioxarray\n",
    "import os\n",
    "import gc\n",
    "    \n",
    "from osgeo import gdal\n",
    "from osgeo import ogr\n",
    "from shapely import wkb\n",
    "from shapely.geometry import Polygon, MultiPolygon\n",
    "\n",
    "\n",
    "from sklearn.cluster import MiniBatchKMeans\n",
    "from yellowbrick.cluster import KElbowVisualizer\n",
    "from sklearn.model_selection import train_test_split\n"
   ]
  },
  {
   "cell_type": "code",
   "execution_count": null,
   "metadata": {},
   "outputs": [],
   "source": [
    "# Specify paths\n",
    "rasPath = \"D:\\\\TEMP\\\\_output\\\\_tif\\\\_Manning_Invasives\\\\Struc_Spec_1cm_near_fill.tif\"\n",
    "rasQuadratPath = 'E:\\\\Sync\\\\_Documents\\\\_Letter_invasives\\\\_Data\\\\_quadrats\\\\'\n"
   ]
  },
  {
   "cell_type": "code",
   "execution_count": null,
   "metadata": {},
   "outputs": [],
   "source": [
    "# Read Vector data\n",
    "\n",
    "# Read Minority training data\n",
    "gdfMinority = gpd.read_file(\"E:\\\\Sync\\\\_Documents\\\\_Letter_invasives\\\\_Data\\\\Training_samples_both_species2.shp\").set_crs('EPSG:26911')\n",
    "\n",
    "# Read Transect outlines\n",
    "quadrats = gpd.read_file('E:\\Sync\\_Documents\\_Letter_invasives\\_Data\\Transect_grids.shp').set_crs('EPSG:26911')"
   ]
  },
  {
   "cell_type": "markdown",
   "metadata": {},
   "source": [
    "### Raster within quadrats to points (GeoDataFrame)\n",
    "Using GDAL Warp (clipping) and Rioxarray (conversion)"
   ]
  },
  {
   "cell_type": "code",
   "execution_count": 5,
   "metadata": {},
   "outputs": [],
   "source": [
    "# Split quadrats by transect and write as seperate shapefiles\n",
    "\n",
    "quadratsSplit = [gpd.GeoSeries((quadrats[quadrats['Quadrat'].isin(['1_2', '1_3', '1_1'])])['geometry'].unary_union),\n",
    "                 gpd.GeoSeries((quadrats[quadrats['Quadrat'].isin(['2_2', '2_7', '2_5', '2_9', '2_4', '2_10', '2_1', '2_3', '2_6', '2_8'])])['geometry'].unary_union),\n",
    "                 gpd.GeoSeries((quadrats[quadrats['Quadrat'].isin(['3_3', '3_2', '3_1'])])['geometry'].unary_union)]\n",
    "\n",
    "for i in range(3):\n",
    "    j = str(i+1)\n",
    "    outPath = f'E:\\\\Sync\\\\_Documents\\\\_Letter_invasives\\\\_Data\\\\_quadrats\\\\{j}.shp'\n",
    "    quadratsSplit[i].to_file(outPath)"
   ]
  },
  {
   "cell_type": "code",
   "execution_count": 6,
   "metadata": {},
   "outputs": [],
   "source": [
    "# Clip raster using GDAL by transect\n",
    "# https://gis.stackexchange.com/questions/45053/gdalwarp-cutline-along-with-shapefile\n",
    "\n",
    "for i in range(1,4):\n",
    "    poly =  f'E:\\\\Sync\\\\_Documents\\\\_Letter_invasives\\\\_Data\\\\_quadrats\\\\{i}.shp'\n",
    "    ds = gdal.Warp(f\"E:\\\\Sync\\\\_Documents\\\\_Letter_invasives\\\\_Data\\\\_quadrats\\\\clippedQd{i}.tif\", rasPath, cropToCutline=True, cutlineDSName=poly, format=\"GTiff\")\n",
    "    ds = None # Close object"
   ]
  },
  {
   "cell_type": "code",
   "execution_count": 37,
   "metadata": {},
   "outputs": [],
   "source": [
    "# Final conve\n",
    "\n",
    "outDfs =[]\n",
    "for i in range(1,4):\n",
    "    tempDfs = []\n",
    "    for j in range(1,9):\n",
    "        path = \"E:\\\\Sync\\\\_Documents\\\\_Letter_invasives\\\\_Data\\\\_quadrats\\\\clippedQd{}.tif\"\n",
    "        rds = rioxarray.open_rasterio(path.format(str(i))).sel(band=j)\n",
    "        df = rds.to_dataframe('band'+str(j))\n",
    "        df.drop(columns=['spatial_ref'], axis=1, inplace=True)\n",
    "        df.reset_index(level=['x', 'y'], inplace=True, drop=False)\n",
    "        df.reset_index(inplace=True, drop=True)\n",
    "        tempDfs.append(df) # Conversion\n",
    "    dfConcat = pd.concat([tempDfs[0]['x'], tempDfs[0]['y'], tempDfs[0]['band1'], tempDfs[1]['band2'], tempDfs[2]['band3'], tempDfs[3]['band4'], tempDfs[4]['band5'], tempDfs[5]['band6'], tempDfs[6]['band7'], tempDfs[7]['band8']], axis=1)\n",
    "    dfConcat = dfConcat.loc[dfConcat['band1']>=0,:]\n",
    "    outDfs.append(dfConcat)\n"
   ]
  },
  {
   "cell_type": "code",
   "execution_count": 38,
   "metadata": {},
   "outputs": [],
   "source": [
    "outDfs = pd.concat(outDfs, axis=0, ignore_index=True)\n",
    "gdf = gpd.GeoDataFrame(outDfs, crs='EPSG:26911', geometry=gpd.points_from_xy(outDfs.x, outDfs.y))\n",
    "\n",
    "gdf.to_file(\"E:\\\\Sync\\\\_Documents\\\\_Letter_invasives\\\\_Data\\\\_quadrats\\\\rasters2points.shp\")"
   ]
  },
  {
   "cell_type": "markdown",
   "metadata": {},
   "source": [
    "### Further removal of potential IAS points was done manually in arcGIS"
   ]
  }
 ],
 "metadata": {
  "kernelspec": {
   "display_name": "geo",
   "language": "python",
   "name": "geo"
  },
  "language_info": {
   "codemirror_mode": {
    "name": "ipython",
    "version": 3
   },
   "file_extension": ".py",
   "mimetype": "text/x-python",
   "name": "python",
   "nbconvert_exporter": "python",
   "pygments_lexer": "ipython3",
   "version": "3.9.9"
  }
 },
 "nbformat": 4,
 "nbformat_minor": 4
}
